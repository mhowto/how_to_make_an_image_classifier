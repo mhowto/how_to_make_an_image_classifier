{
 "cells": [
  {
   "cell_type": "code",
   "execution_count": 3,
   "metadata": {},
   "outputs": [
    {
     "name": "stdout",
     "output_type": "stream",
     "text": [
      "Using TensorFlow backend.\n",
      "2017-12-17 19:59:36.080865: W tensorflow/core/platform/cpu_feature_guard.cc:45] The TensorFlow library wasn't compiled to use SSE4.1 instructions, but these are available on your machine and could speed up CPU computations.\n",
      "2017-12-17 19:59:36.080891: W tensorflow/core/platform/cpu_feature_guard.cc:45] The TensorFlow library wasn't compiled to use SSE4.2 instructions, but these are available on your machine and could speed up CPU computations.\n",
      "2017-12-17 19:59:36.080905: W tensorflow/core/platform/cpu_feature_guard.cc:45] The TensorFlow library wasn't compiled to use AVX instructions, but these are available on your machine and could speed up CPU computations.\n",
      "2017-12-17 19:59:36.080914: W tensorflow/core/platform/cpu_feature_guard.cc:45] The TensorFlow library wasn't compiled to use AVX2 instructions, but these are available on your machine and could speed up CPU computations.\n",
      "2017-12-17 19:59:36.080919: W tensorflow/core/platform/cpu_feature_guard.cc:45] The TensorFlow library wasn't compiled to use FMA instructions, but these are available on your machine and could speed up CPU computations.\n",
      "2017-12-17 19:59:36.199086: I tensorflow/stream_executor/cuda/cuda_gpu_executor.cc:893] successful NUMA node read from SysFS had negative value (-1), but there must be at least one NUMA node, so returning NUMA node zero\n",
      "2017-12-17 19:59:36.199348: I tensorflow/core/common_runtime/gpu/gpu_device.cc:955] Found device 0 with properties: \n",
      "name: GeForce GTX 980\n",
      "major: 5 minor: 2 memoryClockRate (GHz) 1.367\n",
      "pciBusID 0000:01:00.0\n",
      "Total memory: 3.94GiB\n",
      "Free memory: 77.62MiB\n",
      "2017-12-17 19:59:36.199366: I tensorflow/core/common_runtime/gpu/gpu_device.cc:976] DMA: 0 \n",
      "2017-12-17 19:59:36.199371: I tensorflow/core/common_runtime/gpu/gpu_device.cc:986] 0:   Y \n",
      "2017-12-17 19:59:36.199383: I tensorflow/core/common_runtime/gpu/gpu_device.cc:1045] Creating TensorFlow device (/gpu:0) -> (device: 0, name: GeForce GTX 980, pci bus id: 0000:01:00.0)\n"
     ]
    }
   ],
   "source": [
    "!KERAS_BACKEND=tensorflow python -c \"from keras import backend\""
   ]
  },
  {
   "cell_type": "code",
   "execution_count": 4,
   "metadata": {},
   "outputs": [],
   "source": [
    "import os\n",
    "import numpy as np\n",
    "from keras.models import Sequential\n",
    "from keras.layers import Activation, Dropout, Flatten, Dense\n",
    "from keras.preprocessing.image import ImageDataGenerator\n",
    "from keras.layers import Convolution2D, MaxPooling2D, ZeroPadding2D\n",
    "from keras import optimizers"
   ]
  },
  {
   "cell_type": "code",
   "execution_count": 5,
   "metadata": {},
   "outputs": [],
   "source": [
    "# dimensions of our images.\n",
    "img_width, img_height = 150, 150\n",
    "\n",
    "train_data_dir = 'data/train'\n",
    "validation_data_dir = 'data/validation'"
   ]
  },
  {
   "cell_type": "code",
   "execution_count": 6,
   "metadata": {},
   "outputs": [
    {
     "name": "stdout",
     "output_type": "stream",
     "text": [
      "Found 2000 images belonging to 2 classes.\n",
      "Found 800 images belonging to 2 classes.\n"
     ]
    }
   ],
   "source": [
    "# used to rescale the pixel values from [0, 255] to [0, 1] interval\n",
    "datagen = ImageDataGenerator(rescale=1./255)\n",
    "\n",
    "# automagically retrieve images and their classes for train and validation sets\n",
    "train_generator = datagen.flow_from_directory(\n",
    "        train_data_dir,\n",
    "        target_size=(img_width, img_height),\n",
    "        batch_size=16,\n",
    "        class_mode='binary')\n",
    "\n",
    "validation_generator = datagen.flow_from_directory(\n",
    "        validation_data_dir,\n",
    "        target_size=(img_width, img_height),\n",
    "        batch_size=32,\n",
    "        class_mode='binary')"
   ]
  },
  {
   "cell_type": "code",
   "execution_count": 18,
   "metadata": {},
   "outputs": [],
   "source": [
    "from keras.layers import Conv2D\n",
    "model = Sequential()\n",
    "model.add(Conv2D(32, (3, 3), input_shape=(img_width, img_height,3)))\n",
    "model.add(Activation('relu'))\n",
    "model.add(MaxPooling2D(pool_size=(2, 2)))\n",
    "\n",
    "model.add(Conv2D(32, (3, 3)))\n",
    "model.add(Activation('relu'))\n",
    "model.add(MaxPooling2D(pool_size=(2, 2)))\n",
    "\n",
    "model.add(Conv2D(64, (3, 3)))\n",
    "model.add(Activation('relu'))\n",
    "model.add(MaxPooling2D(pool_size=(2, 2)))\n",
    "\n",
    "model.add(Flatten())\n",
    "model.add(Dense(64))\n",
    "model.add(Activation('relu'))\n",
    "model.add(Dropout(0.5))\n",
    "model.add(Dense(1))\n",
    "model.add(Activation('sigmoid'))"
   ]
  },
  {
   "cell_type": "code",
   "execution_count": 22,
   "metadata": {},
   "outputs": [],
   "source": [
    "model.compile(loss='binary_crossentropy',\n",
    "              optimizer='rmsprop',\n",
    "              metrics=['accuracy'])"
   ]
  },
  {
   "cell_type": "code",
   "execution_count": 23,
   "metadata": {},
   "outputs": [],
   "source": [
    "nb_epoch = 30\n",
    "nb_train_samples = 2000\n",
    "nb_validation_samples = 800"
   ]
  },
  {
   "cell_type": "code",
   "execution_count": 25,
   "metadata": {},
   "outputs": [
    {
     "name": "stdout",
     "output_type": "stream",
     "text": [
      "Epoch 1/30\n",
      "125/125 [==============================] - 85s 682ms/step - loss: 0.5246 - acc: 0.7400 - val_loss: 0.6780 - val_acc: 0.6550\n",
      "Epoch 2/30\n",
      "125/125 [==============================] - 85s 679ms/step - loss: 0.4553 - acc: 0.8000 - val_loss: 0.6685 - val_acc: 0.6825\n",
      "Epoch 3/30\n",
      "125/125 [==============================] - 86s 684ms/step - loss: 0.4028 - acc: 0.8110 - val_loss: 0.6604 - val_acc: 0.6737\n",
      "Epoch 4/30\n",
      "125/125 [==============================] - 85s 681ms/step - loss: 0.3800 - acc: 0.8315 - val_loss: 0.7420 - val_acc: 0.7013\n",
      "Epoch 5/30\n",
      "125/125 [==============================] - 85s 681ms/step - loss: 0.3391 - acc: 0.8615 - val_loss: 0.8566 - val_acc: 0.6650\n",
      "Epoch 6/30\n",
      "125/125 [==============================] - 84s 676ms/step - loss: 0.3062 - acc: 0.8645 - val_loss: 0.8517 - val_acc: 0.7013\n",
      "Epoch 7/30\n",
      "125/125 [==============================] - 84s 676ms/step - loss: 0.2645 - acc: 0.8855 - val_loss: 1.1195 - val_acc: 0.6875\n",
      "Epoch 8/30\n",
      "125/125 [==============================] - 84s 676ms/step - loss: 0.2367 - acc: 0.9060 - val_loss: 0.8564 - val_acc: 0.6950\n",
      "Epoch 9/30\n",
      "125/125 [==============================] - 85s 682ms/step - loss: 0.2054 - acc: 0.9150 - val_loss: 1.1737 - val_acc: 0.6837\n",
      "Epoch 10/30\n",
      "125/125 [==============================] - 85s 678ms/step - loss: 0.1755 - acc: 0.9295 - val_loss: 0.9924 - val_acc: 0.6937\n",
      "Epoch 11/30\n",
      "125/125 [==============================] - 85s 681ms/step - loss: 0.1603 - acc: 0.9380 - val_loss: 1.3050 - val_acc: 0.6763\n",
      "Epoch 12/30\n",
      "125/125 [==============================] - 84s 673ms/step - loss: 0.1437 - acc: 0.9470 - val_loss: 0.7837 - val_acc: 0.7238\n",
      "Epoch 13/30\n",
      "125/125 [==============================] - 84s 674ms/step - loss: 0.1353 - acc: 0.9480 - val_loss: 1.4849 - val_acc: 0.6913\n",
      "Epoch 14/30\n",
      "125/125 [==============================] - 85s 678ms/step - loss: 0.1210 - acc: 0.9525 - val_loss: 1.4631 - val_acc: 0.6863\n",
      "Epoch 15/30\n",
      "125/125 [==============================] - 84s 676ms/step - loss: 0.1197 - acc: 0.9600 - val_loss: 1.2514 - val_acc: 0.6913\n",
      "Epoch 16/30\n",
      "125/125 [==============================] - 84s 676ms/step - loss: 0.1145 - acc: 0.9600 - val_loss: 1.6713 - val_acc: 0.6975\n",
      "Epoch 17/30\n",
      "125/125 [==============================] - 85s 679ms/step - loss: 0.1463 - acc: 0.9525 - val_loss: 1.5897 - val_acc: 0.7150\n",
      "Epoch 18/30\n",
      "125/125 [==============================] - 85s 681ms/step - loss: 0.1144 - acc: 0.9640 - val_loss: 1.9307 - val_acc: 0.6863\n",
      "Epoch 19/30\n",
      "125/125 [==============================] - 85s 677ms/step - loss: 0.1179 - acc: 0.9590 - val_loss: 1.1918 - val_acc: 0.7175\n",
      "Epoch 20/30\n",
      "125/125 [==============================] - 85s 678ms/step - loss: 0.0961 - acc: 0.9725 - val_loss: 1.7708 - val_acc: 0.7050\n",
      "Epoch 21/30\n",
      "125/125 [==============================] - 91s 725ms/step - loss: 0.0938 - acc: 0.9765 - val_loss: 2.0439 - val_acc: 0.6887\n",
      "Epoch 22/30\n",
      "125/125 [==============================] - 97s 777ms/step - loss: 0.1099 - acc: 0.9605 - val_loss: 2.0677 - val_acc: 0.6963\n",
      "Epoch 23/30\n",
      "125/125 [==============================] - 91s 729ms/step - loss: 0.0935 - acc: 0.9665 - val_loss: 1.9696 - val_acc: 0.7087\n",
      "Epoch 24/30\n",
      "125/125 [==============================] - 99s 789ms/step - loss: 0.0888 - acc: 0.9720 - val_loss: 1.0413 - val_acc: 0.6700\n",
      "Epoch 25/30\n",
      "125/125 [==============================] - 88s 708ms/step - loss: 0.1060 - acc: 0.9615 - val_loss: 1.4727 - val_acc: 0.6625\n",
      "Epoch 26/30\n",
      "125/125 [==============================] - 90s 718ms/step - loss: 0.1461 - acc: 0.9575 - val_loss: 2.2121 - val_acc: 0.7063\n",
      "Epoch 27/30\n",
      "125/125 [==============================] - 87s 696ms/step - loss: 0.1029 - acc: 0.9700 - val_loss: 2.6316 - val_acc: 0.6900\n",
      "Epoch 28/30\n",
      "125/125 [==============================] - 92s 733ms/step - loss: 0.1272 - acc: 0.9600 - val_loss: 1.5633 - val_acc: 0.7175\n",
      "Epoch 29/30\n",
      "125/125 [==============================] - 90s 716ms/step - loss: 0.1291 - acc: 0.9575 - val_loss: 1.9852 - val_acc: 0.7238\n",
      "Epoch 30/30\n",
      "125/125 [==============================] - 92s 733ms/step - loss: 0.1380 - acc: 0.9590 - val_loss: 2.6400 - val_acc: 0.7125\n"
     ]
    },
    {
     "data": {
      "text/plain": [
       "<keras.callbacks.History at 0x7f07ba7d5f28>"
      ]
     },
     "execution_count": 25,
     "metadata": {},
     "output_type": "execute_result"
    }
   ],
   "source": [
    "model.fit_generator(\n",
    "        train_generator,\n",
    "        epochs=nb_epoch,\n",
    "        validation_data=validation_generator,\n",
    "        steps_per_epoch=125,\n",
    "        validation_steps=25)"
   ]
  },
  {
   "cell_type": "code",
   "execution_count": null,
   "metadata": {},
   "outputs": [],
   "source": []
  }
 ],
 "metadata": {
  "kernelspec": {
   "display_name": "Python 3",
   "language": "python",
   "name": "python3"
  },
  "language_info": {
   "codemirror_mode": {
    "name": "ipython",
    "version": 3
   },
   "file_extension": ".py",
   "mimetype": "text/x-python",
   "name": "python",
   "nbconvert_exporter": "python",
   "pygments_lexer": "ipython3",
   "version": "3.6.2"
  }
 },
 "nbformat": 4,
 "nbformat_minor": 2
}
