{
 "cells": [
  {
   "cell_type": "code",
   "execution_count": 1,
   "metadata": {},
   "outputs": [],
   "source": [
    "from PIL import Image"
   ]
  },
  {
   "cell_type": "code",
   "execution_count": 10,
   "metadata": {},
   "outputs": [],
   "source": [
    "im = Image.open('data/train/dogs/dog.0.jpg')"
   ]
  },
  {
   "cell_type": "code",
   "execution_count": 11,
   "metadata": {},
   "outputs": [],
   "source": [
    "im.show()"
   ]
  },
  {
   "cell_type": "code",
   "execution_count": 12,
   "metadata": {},
   "outputs": [
    {
     "data": {
      "text/plain": [
       "(499, 375)"
      ]
     },
     "execution_count": 12,
     "metadata": {},
     "output_type": "execute_result"
    }
   ],
   "source": [
    "im.size"
   ]
  },
  {
   "cell_type": "code",
   "execution_count": 15,
   "metadata": {},
   "outputs": [],
   "source": [
    "im = im.resize((150, 150), Image.ANTIALIAS)"
   ]
  },
  {
   "cell_type": "code",
   "execution_count": 16,
   "metadata": {},
   "outputs": [
    {
     "data": {
      "text/plain": [
       "(150, 150)"
      ]
     },
     "execution_count": 16,
     "metadata": {},
     "output_type": "execute_result"
    }
   ],
   "source": [
    "im.size"
   ]
  },
  {
   "cell_type": "code",
   "execution_count": 17,
   "metadata": {},
   "outputs": [],
   "source": [
    "import numpy as np"
   ]
  },
  {
   "cell_type": "code",
   "execution_count": 18,
   "metadata": {},
   "outputs": [],
   "source": [
    "m = np.array(im)"
   ]
  },
  {
   "cell_type": "code",
   "execution_count": 19,
   "metadata": {},
   "outputs": [
    {
     "data": {
      "text/plain": [
       "67500"
      ]
     },
     "execution_count": 19,
     "metadata": {},
     "output_type": "execute_result"
    }
   ],
   "source": [
    "m.size"
   ]
  },
  {
   "cell_type": "code",
   "execution_count": 20,
   "metadata": {},
   "outputs": [
    {
     "data": {
      "text/plain": [
       "(150, 150, 3)"
      ]
     },
     "execution_count": 20,
     "metadata": {},
     "output_type": "execute_result"
    }
   ],
   "source": [
    "m.shape"
   ]
  },
  {
   "cell_type": "code",
   "execution_count": 21,
   "metadata": {},
   "outputs": [
    {
     "data": {
      "text/plain": [
       "array([[[118, 116, 127],\n",
       "        [109, 107, 122],\n",
       "        [111, 108, 124],\n",
       "        ..., \n",
       "        [137, 139, 151],\n",
       "        [133, 134, 147],\n",
       "        [133, 133, 142]],\n",
       "\n",
       "       [[121, 119, 130],\n",
       "        [112, 109, 124],\n",
       "        [113, 110, 126],\n",
       "        ..., \n",
       "        [139, 141, 153],\n",
       "        [135, 137, 148],\n",
       "        [136, 136, 144]],\n",
       "\n",
       "       [[124, 122, 133],\n",
       "        [115, 113, 128],\n",
       "        [116, 113, 128],\n",
       "        ..., \n",
       "        [141, 143, 155],\n",
       "        [137, 139, 151],\n",
       "        [136, 138, 146]],\n",
       "\n",
       "       ..., \n",
       "       [[ 76,  84,  87],\n",
       "        [ 72,  79,  83],\n",
       "        [ 65,  74,  76],\n",
       "        ..., \n",
       "        [ 66,  75,  80],\n",
       "        [ 58,  67,  72],\n",
       "        [ 64,  74,  76]],\n",
       "\n",
       "       [[ 72,  76,  80],\n",
       "        [ 72,  79,  83],\n",
       "        [ 68,  78,  80],\n",
       "        ..., \n",
       "        [ 60,  69,  74],\n",
       "        [ 68,  77,  82],\n",
       "        [ 76,  86,  88]],\n",
       "\n",
       "       [[ 67,  72,  76],\n",
       "        [ 69,  76,  79],\n",
       "        [ 65,  74,  77],\n",
       "        ..., \n",
       "        [ 82,  91,  96],\n",
       "        [ 77,  86,  91],\n",
       "        [ 65,  75,  78]]], dtype=uint8)"
      ]
     },
     "execution_count": 21,
     "metadata": {},
     "output_type": "execute_result"
    }
   ],
   "source": [
    "m"
   ]
  },
  {
   "cell_type": "code",
   "execution_count": null,
   "metadata": {},
   "outputs": [],
   "source": []
  }
 ],
 "metadata": {
  "kernelspec": {
   "display_name": "Python 3",
   "language": "python",
   "name": "python3"
  },
  "language_info": {
   "codemirror_mode": {
    "name": "ipython",
    "version": 3
   },
   "file_extension": ".py",
   "mimetype": "text/x-python",
   "name": "python",
   "nbconvert_exporter": "python",
   "pygments_lexer": "ipython3",
   "version": "3.6.2"
  }
 },
 "nbformat": 4,
 "nbformat_minor": 2
}
